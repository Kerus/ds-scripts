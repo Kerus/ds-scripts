{
 "cells": [
  {
   "cell_type": "code",
   "execution_count": 1,
   "metadata": {},
   "outputs": [],
   "source": [
    "#from competition https://www.kaggle.com/c/microsoft-malware-prediction\n",
    "import pandas as pd\n",
    "import numpy as np\n",
    "import lightgbm as lgb\n",
    "#import xgboost as xgb\n",
    "from scipy.sparse import vstack, csr_matrix, save_npz, load_npz\n",
    "from sklearn.preprocessing import LabelEncoder, OneHotEncoder\n",
    "from sklearn.model_selection import StratifiedKFold\n",
    "#from sklearn.metrics import roc_auc_score\n",
    "import gc\n",
    "gc.enable()"
   ]
  },
  {
   "cell_type": "code",
   "execution_count": 2,
   "metadata": {},
   "outputs": [],
   "source": [
    "dtypes = {\n",
    "        'MachineIdentifier':                                    'category',\n",
    "        'ProductName':                                          'category',\n",
    "        'EngineVersion':                                        'category',\n",
    "        'AppVersion':                                           'category',\n",
    "        'AvSigVersion':                                         'category',\n",
    "        'IsBeta':                                               'int8',\n",
    "        'RtpStateBitfield':                                     'float16',\n",
    "        'IsSxsPassiveMode':                                     'int8',\n",
    "        'DefaultBrowsersIdentifier':                            'float16',\n",
    "        'AVProductStatesIdentifier':                            'float32',\n",
    "        'AVProductsInstalled':                                  'float16',\n",
    "        'AVProductsEnabled':                                    'float16',\n",
    "        'HasTpm':                                               'int8',\n",
    "        'CountryIdentifier':                                    'int16',\n",
    "        'CityIdentifier':                                       'float32',\n",
    "        'OrganizationIdentifier':                               'float16',\n",
    "        'GeoNameIdentifier':                                    'float16',\n",
    "        'LocaleEnglishNameIdentifier':                          'int8',\n",
    "        'Platform':                                             'category',\n",
    "        'Processor':                                            'category',\n",
    "        'OsVer':                                                'category',\n",
    "        'OsBuild':                                              'int16',\n",
    "        'OsSuite':                                              'int16',\n",
    "        'OsPlatformSubRelease':                                 'category',\n",
    "        'OsBuildLab':                                           'category',\n",
    "        'SkuEdition':                                           'category',\n",
    "        'IsProtected':                                          'float16',\n",
    "        'AutoSampleOptIn':                                      'int8',\n",
    "        'PuaMode':                                              'category',\n",
    "        'SMode':                                                'float16',\n",
    "        'IeVerIdentifier':                                      'float16',\n",
    "        'SmartScreen':                                          'category',\n",
    "        'Firewall':                                             'float16',\n",
    "        'UacLuaenable':                                         'float32',\n",
    "        'Census_MDC2FormFactor':                                'category',\n",
    "        'Census_DeviceFamily':                                  'category',\n",
    "        'Census_OEMNameIdentifier':                             'float16',\n",
    "        'Census_OEMModelIdentifier':                            'float32',\n",
    "        'Census_ProcessorCoreCount':                            'float16',\n",
    "        'Census_ProcessorManufacturerIdentifier':               'float16',\n",
    "        'Census_ProcessorModelIdentifier':                      'float16',\n",
    "        'Census_ProcessorClass':                                'category',\n",
    "        'Census_PrimaryDiskTotalCapacity':                      'float32',\n",
    "        'Census_PrimaryDiskTypeName':                           'category',\n",
    "        'Census_SystemVolumeTotalCapacity':                     'float32',\n",
    "        'Census_HasOpticalDiskDrive':                           'int8',\n",
    "        'Census_TotalPhysicalRAM':                              'float32',\n",
    "        'Census_ChassisTypeName':                               'category',\n",
    "        'Census_InternalPrimaryDiagonalDisplaySizeInInches':    'float16',\n",
    "        'Census_InternalPrimaryDisplayResolutionHorizontal':    'float16',\n",
    "        'Census_InternalPrimaryDisplayResolutionVertical':      'float16',\n",
    "        'Census_PowerPlatformRoleName':                         'category',\n",
    "        'Census_InternalBatteryType':                           'category',\n",
    "        'Census_InternalBatteryNumberOfCharges':                'float32',\n",
    "        'Census_OSVersion':                                     'category',\n",
    "        'Census_OSArchitecture':                                'category',\n",
    "        'Census_OSBranch':                                      'category',\n",
    "        'Census_OSBuildNumber':                                 'int16',\n",
    "        'Census_OSBuildRevision':                               'int32',\n",
    "        'Census_OSEdition':                                     'category',\n",
    "        'Census_OSSkuName':                                     'category',\n",
    "        'Census_OSInstallTypeName':                             'category',\n",
    "        'Census_OSInstallLanguageIdentifier':                   'float16',\n",
    "        'Census_OSUILocaleIdentifier':                          'int16',\n",
    "        'Census_OSWUAutoUpdateOptionsName':                     'category',\n",
    "        'Census_IsPortableOperatingSystem':                     'int8',\n",
    "        'Census_GenuineStateName':                              'category',\n",
    "        'Census_ActivationChannel':                             'category',\n",
    "        'Census_IsFlightingInternal':                           'float16',\n",
    "        'Census_IsFlightsDisabled':                             'float16',\n",
    "        'Census_FlightRing':                                    'category',\n",
    "        'Census_ThresholdOptIn':                                'float16',\n",
    "        'Census_FirmwareManufacturerIdentifier':                'float16',\n",
    "        'Census_FirmwareVersionIdentifier':                     'float32',\n",
    "        'Census_IsSecureBootEnabled':                           'int8',\n",
    "        'Census_IsWIMBootEnabled':                              'float16',\n",
    "        'Census_IsVirtualDevice':                               'float16',\n",
    "        'Census_IsTouchEnabled':                                'int8',\n",
    "        'Census_IsPenCapable':                                  'int8',\n",
    "        'Census_IsAlwaysOnAlwaysConnectedCapable':              'float16',\n",
    "        'Wdft_IsGamer':                                         'float16',\n",
    "        'Wdft_RegionIdentifier':                                'float16',\n",
    "        'HasDetections':                                        'int8'\n",
    "        }"
   ]
  },
  {
   "cell_type": "code",
   "execution_count": 4,
   "metadata": {},
   "outputs": [
    {
     "name": "stdout",
     "output_type": "stream",
     "text": [
      "Download Train.\n",
      "\n"
     ]
    }
   ],
   "source": [
    "print('Download Train.\\n')\n",
    "train = pd.read_csv('D:\\Ellunium\\MMP/train.csv', dtype=dtypes, low_memory=True)"
   ]
  },
  {
   "cell_type": "code",
   "execution_count": 6,
   "metadata": {},
   "outputs": [],
   "source": [
    "# IMPORTANT METHOD\n",
    "#to get rif of features wich have practically one value (useless features)\n",
    "good_cols = list(train.columns)\n",
    "for col in train.columns:\n",
    "    rate = train[col].value_counts(normalize=True, dropna=False).values[0]\n",
    "    if rate > 0.9:\n",
    "        good_cols.remove(col)"
   ]
  },
  {
   "cell_type": "code",
   "execution_count": 7,
   "metadata": {},
   "outputs": [],
   "source": [
    "train = train[good_cols]"
   ]
  },
  {
   "cell_type": "code",
   "execution_count": 8,
   "metadata": {},
   "outputs": [
    {
     "name": "stdout",
     "output_type": "stream",
     "text": [
      "Download Test.\n",
      "\n",
      "Memory usage after optimization is: 1219.19 MB\n",
      "Decreased by 0.0%\n"
     ]
    }
   ],
   "source": [
    "print('Download Test.\\n')\n",
    "test_dtypes = {k: v for k, v in dtypes.items() if k in good_cols}\n",
    "test = pd.read_csv('D:\\Ellunium\\MMP/test.csv', dtype=test_dtypes, usecols=good_cols[:-1], low_memory=True)\n",
    "test.loc[6529507, 'OsBuildLab'] = '17134.1.amd64fre.rs4_release.180410-1804'\n",
    "test['OsBuildLab'] = test['OsBuildLab'].fillna('17134.1.amd64fre.rs4_release.180410-1804')"
   ]
  },
  {
   "cell_type": "code",
   "execution_count": 9,
   "metadata": {},
   "outputs": [],
   "source": [
    "train['MachineIdentifier'] = train.index.astype('uint32')\n",
    "test['MachineIdentifier']  = test.index.astype('uint32')"
   ]
  },
  {
   "cell_type": "code",
   "execution_count": 10,
   "metadata": {},
   "outputs": [
    {
     "name": "stdout",
     "output_type": "stream",
     "text": [
      "Transform all features to category.\n",
      "\n"
     ]
    }
   ],
   "source": [
    "print('Transform all features to category.\\n')\n",
    "for usecol in train.columns.tolist()[1:-1]:\n",
    "\n",
    "    train[usecol] = train[usecol].astype('str')\n",
    "    test[usecol] = test[usecol].astype('str')\n",
    "    \n",
    "    #Fit LabelEncoder\n",
    "    # we use train and test set for fitting\n",
    "    le = LabelEncoder().fit(\n",
    "            np.unique(train[usecol].unique().tolist()+\n",
    "                      test[usecol].unique().tolist()))\n",
    "\n",
    "    #At the end 0 will be used for dropped values\n",
    "    train[usecol] = le.transform(train[usecol])+1\n",
    "    test[usecol]  = le.transform(test[usecol])+1\n",
    "\n",
    "    agg_tr = (train\n",
    "              .groupby([usecol])\n",
    "              .aggregate({'MachineIdentifier':'count'})\n",
    "              .reset_index()\n",
    "              .rename({'MachineIdentifier':'Train'}, axis=1))\n",
    "    agg_te = (test\n",
    "              .groupby([usecol])\n",
    "              .aggregate({'MachineIdentifier':'count'})\n",
    "              .reset_index()\n",
    "              .rename({'MachineIdentifier':'Test'}, axis=1))\n",
    "\n",
    "    agg = pd.merge(agg_tr, agg_te, on=usecol, how='outer').replace(np.nan, 0)\n",
    "    #Select values with more than 1000 observations\n",
    "    agg = agg[(agg['Train'] > 1000)].reset_index(drop=True)\n",
    "    agg['Total'] = agg['Train'] + agg['Test']\n",
    "    #Drop unbalanced values\n",
    "    agg = agg[(agg['Train'] / agg['Total'] > 0.2) & (agg['Train'] / agg['Total'] < 0.8)]\n",
    "    agg[usecol+'Copy'] = agg[usecol]\n",
    "\n",
    "    train[usecol] = (pd.merge(train[[usecol]], \n",
    "                              agg[[usecol, usecol+'Copy']], \n",
    "                              on=usecol, how='left')[usecol+'Copy']\n",
    "                     .replace(np.nan, 0).astype('int').astype('category'))\n",
    "\n",
    "    test[usecol]  = (pd.merge(test[[usecol]], \n",
    "                              agg[[usecol, usecol+'Copy']], \n",
    "                              on=usecol, how='left')[usecol+'Copy']\n",
    "                     .replace(np.nan, 0).astype('int').astype('category'))\n",
    "\n",
    "    del le, agg_tr, agg_te, agg, usecol\n",
    "    gc.collect()"
   ]
  },
  {
   "cell_type": "code",
   "execution_count": 11,
   "metadata": {},
   "outputs": [
    {
     "data": {
      "text/plain": [
       "21"
      ]
     },
     "execution_count": 11,
     "metadata": {},
     "output_type": "execute_result"
    }
   ],
   "source": [
    "y_train = np.array(train['HasDetections'])\n",
    "train_ids = train.index\n",
    "test_ids  = test.index\n",
    "\n",
    "del train['HasDetections'], train['MachineIdentifier'], test['MachineIdentifier']\n",
    "gc.collect()"
   ]
  },
  {
   "cell_type": "code",
   "execution_count": 12,
   "metadata": {},
   "outputs": [
    {
     "data": {
      "text/plain": [
       "784"
      ]
     },
     "execution_count": 12,
     "metadata": {},
     "output_type": "execute_result"
    }
   ],
   "source": [
    "#Fit OneHotEncoder\n",
    "ohe = OneHotEncoder(categories='auto', sparse=True, dtype='uint8').fit(train)\n",
    "\n",
    "#Transform data using small groups to reduce memory usage\n",
    "m = 100000\n",
    "train = vstack([ohe.transform(train[i*m:(i+1)*m]) for i in range(train.shape[0] // m + 1)])\n",
    "test  = vstack([ohe.transform(test[i*m:(i+1)*m])  for i in range(test.shape[0] // m +  1)])\n",
    "save_npz('D:\\Ellunium\\MMP/train.npz', train, compressed=True)\n",
    "save_npz('D:\\Ellunium\\MMP/test.npz',  test,  compressed=True)\n",
    "\n",
    "del ohe, train, test\n",
    "gc.collect()"
   ]
  },
  {
   "cell_type": "code",
   "execution_count": 13,
   "metadata": {},
   "outputs": [],
   "source": [
    "skf = StratifiedKFold(n_splits=5, shuffle=True, random_state=42)\n",
    "skf.get_n_splits(train_ids, y_train)\n",
    "\n",
    "lgb_test_result  = np.zeros(test_ids.shape[0])"
   ]
  },
  {
   "cell_type": "code",
   "execution_count": null,
   "metadata": {},
   "outputs": [
    {
     "name": "stdout",
     "output_type": "stream",
     "text": [
      "\n",
      "LightGBM\n",
      "\n",
      "Fold 1\n",
      "\n",
      "Training until validation scores don't improve for 100 rounds.\n",
      "[100]\tvalid_0's binary_logloss: 0.606338\tvalid_0's auc: 0.729336\n",
      "[200]\tvalid_0's binary_logloss: 0.600205\tvalid_0's auc: 0.734685\n",
      "[300]\tvalid_0's binary_logloss: 0.598714\tvalid_0's auc: 0.736119\n",
      "[400]\tvalid_0's binary_logloss: 0.598459\tvalid_0's auc: 0.736295\n",
      "Early stopping, best iteration is:\n",
      "[374]\tvalid_0's binary_logloss: 0.598467\tvalid_0's auc: 0.73631\n",
      "Fold 2\n",
      "\n",
      "Training until validation scores don't improve for 100 rounds.\n",
      "[100]\tvalid_0's binary_logloss: 0.60657\tvalid_0's auc: 0.729436\n",
      "[200]\tvalid_0's binary_logloss: 0.600414\tvalid_0's auc: 0.734695\n",
      "[300]\tvalid_0's binary_logloss: 0.598839\tvalid_0's auc: 0.736195\n",
      "[400]\tvalid_0's binary_logloss: 0.598523\tvalid_0's auc: 0.736451\n",
      "Early stopping, best iteration is:\n",
      "[395]\tvalid_0's binary_logloss: 0.598516\tvalid_0's auc: 0.736464\n",
      "Fold 3\n",
      "\n",
      "Training until validation scores don't improve for 100 rounds.\n",
      "[100]\tvalid_0's binary_logloss: 0.606364\tvalid_0's auc: 0.729469\n",
      "[200]\tvalid_0's binary_logloss: 0.600323\tvalid_0's auc: 0.734721\n",
      "[300]\tvalid_0's binary_logloss: 0.598795\tvalid_0's auc: 0.736241\n",
      "[400]\tvalid_0's binary_logloss: 0.59851\tvalid_0's auc: 0.736481\n",
      "[500]\tvalid_0's binary_logloss: 0.598563\tvalid_0's auc: 0.736387\n",
      "Early stopping, best iteration is:\n",
      "[407]\tvalid_0's binary_logloss: 0.5985\tvalid_0's auc: 0.736488\n"
     ]
    }
   ],
   "source": [
    "counter = 0\n",
    "\n",
    "print('\\nLightGBM\\n')\n",
    "\n",
    "for train_index, test_index in skf.split(train_ids, y_train):\n",
    "    \n",
    "    print('Fold {}\\n'.format(counter + 1))\n",
    "    \n",
    "    train = load_npz('D:\\Ellunium\\MMP/train.npz')\n",
    "    X_fit = vstack([train[train_index[i*m:(i+1)*m]] for i in range(train_index.shape[0] // m + 1)])\n",
    "    X_val = vstack([train[test_index[i*m:(i+1)*m]]  for i in range(test_index.shape[0] //  m + 1)])\n",
    "    X_fit, X_val = csr_matrix(X_fit, dtype='float32'), csr_matrix(X_val, dtype='float32')\n",
    "    y_fit, y_val = y_train[train_index], y_train[test_index]\n",
    "    \n",
    "    del train\n",
    "    gc.collect()\n",
    "\n",
    "    lgb_model = lgb.LGBMClassifier(max_depth=-1,\n",
    "                                   n_estimators=30000,\n",
    "                                   learning_rate=0.05,\n",
    "                                   num_leaves=2**12-1,\n",
    "                                   colsample_bytree=0.28,\n",
    "                                   objective='binary', \n",
    "                                   n_jobs=-1)\n",
    "    \n",
    "    lgb_model.fit(X_fit, y_fit, eval_metric='auc', \n",
    "                  eval_set=[(X_val, y_val)], \n",
    "                  verbose=100, early_stopping_rounds=100)\n",
    "    \n",
    "    del X_fit, X_val, y_fit, y_val, train_index, test_index\n",
    "    gc.collect()\n",
    "    \n",
    "    test = load_npz('D:\\Ellunium\\MMP/test.npz')\n",
    "    test = csr_matrix(test, dtype='float32')\n",
    "    lgb_test_result += lgb_model.predict_proba(test)[:,1]\n",
    "    counter += 1\n",
    "    \n",
    "    del test\n",
    "    gc.collect()"
   ]
  },
  {
   "cell_type": "code",
   "execution_count": null,
   "metadata": {},
   "outputs": [],
   "source": [
    "submission = pd.read_csv('D:\\Ellunium\\MMP/sample_submission.csv')\n",
    "submission['HasDetections'] = lgb_test_result / counter\n",
    "submission.to_csv('D:\\Ellunium\\MMP/lgb_submission.csv', index=False)\n",
    "print('\\nDone.')"
   ]
  }
 ],
 "metadata": {
  "kernelspec": {
   "display_name": "Python 3",
   "language": "python",
   "name": "python3"
  },
  "language_info": {
   "codemirror_mode": {
    "name": "ipython",
    "version": 3
   },
   "file_extension": ".py",
   "mimetype": "text/x-python",
   "name": "python",
   "nbconvert_exporter": "python",
   "pygments_lexer": "ipython3",
   "version": "3.6.8"
  }
 },
 "nbformat": 4,
 "nbformat_minor": 2
}
